{
 "cells": [
  {
   "cell_type": "markdown",
   "id": "37af9421-71a2-49a9-bc92-7d7342972a87",
   "metadata": {},
   "source": [
    "# Generate a rubik's cube"
   ]
  },
  {
   "cell_type": "code",
   "execution_count": 19,
   "id": "80fbbc7c-900e-48b0-ab65-ed2076d93584",
   "metadata": {
    "tags": []
   },
   "outputs": [],
   "source": [
    "import bpy\n",
    "import itertools\n",
    "\n",
    "A = list(range(3))\n",
    "for xyz in itertools.product(A, A, A):\n",
    "    bpy.ops.mesh.primitive_cube_add(size=1, location=xyz)"
   ]
  }
 ],
 "metadata": {
  "kernelspec": {
   "display_name": "blender-3.6.0-windows-x64",
   "language": "python",
   "name": "blender-3.6.0-windows-x64"
  },
  "language_info": {
   "codemirror_mode": {
    "name": "ipython",
    "version": 3
   },
   "file_extension": ".py",
   "mimetype": "text/x-python",
   "name": "python",
   "nbconvert_exporter": "python",
   "pygments_lexer": "ipython3",
   "version": "3.10.12"
  },
  "name": "rubik-cube.ipynb"
 },
 "nbformat": 4,
 "nbformat_minor": 5
}
